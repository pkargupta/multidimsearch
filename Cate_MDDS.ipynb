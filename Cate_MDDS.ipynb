{
 "cells": [
  {
   "cell_type": "code",
   "execution_count": 1,
   "id": "ced4650c",
   "metadata": {},
   "outputs": [
    {
     "name": "stderr",
     "output_type": "stream",
     "text": [
      "[nltk_data] Downloading package punkt to /Users/tanay/nltk_data...\n",
      "[nltk_data]   Package punkt is already up-to-date!\n"
     ]
    }
   ],
   "source": [
    "import numpy as np\n",
    "from numpy import dot\n",
    "from numpy.linalg import norm\n",
    "import nltk\n",
    "nltk.download('punkt')\n",
    "from collections import Counter\n",
    "import pandas as pd\n",
    "import seaborn as sns\n",
    "import matplotlib.pylab as plt"
   ]
  },
  {
   "cell_type": "code",
   "execution_count": 2,
   "id": "c118caf5",
   "metadata": {},
   "outputs": [],
   "source": [
    "def readCateEmbeddings(filename):\n",
    "    emb = {}\n",
    "    with open(filename, 'r') as infile:\n",
    "        vectors = infile.readlines()[1:]\n",
    "        for v in vectors:\n",
    "            token,cate_emb = v.strip().split(' ', 1)\n",
    "            cate_emb = cate_emb.split(' ')\n",
    "            emb[token] = np.array(cate_emb)\n",
    "            emb[token] = emb[token].astype(np.float64)\n",
    "    return emb"
   ]
  },
  {
   "cell_type": "code",
   "execution_count": 3,
   "id": "c7341225",
   "metadata": {},
   "outputs": [],
   "source": [
    "def readCateSpec(filename):\n",
    "    spec = {}\n",
    "    with open(filename, 'r') as infile:\n",
    "        temp = infile.readlines()[1:]\n",
    "        for s in temp:\n",
    "            token,specificity = s.strip().split(' ')\n",
    "            spec[token] = float(specificity)\n",
    "    return spec"
   ]
  },
  {
   "cell_type": "code",
   "execution_count": 46,
   "id": "16d04a75",
   "metadata": {},
   "outputs": [],
   "source": [
    "def calcRecEntropy(corpus):  \n",
    "    res = []\n",
    "    for doc in corpus:\n",
    "        data = nltk.word_tokenize(doc) \n",
    "        counter=Counter(data)\n",
    "        df = pd.DataFrame.from_dict(counter, orient='index').reset_index()\n",
    "        df = df.rename(columns={\"index\": \"words\", 0: \"entropy\"}) \n",
    "        shannon_entropy_value = 0\n",
    "        p_i = df['entropy'] / float(len(data)) \n",
    "        entropy_i = (p_i*np.log(1/p_i))\n",
    "        shannon_entropy_value += entropy_i\n",
    "        df['entropy']=1/shannon_entropy_value\n",
    "        res.append(df.set_index('words').to_dict()['entropy'])\n",
    "    return res"
   ]
  },
  {
   "cell_type": "code",
   "execution_count": 5,
   "id": "895d90ac",
   "metadata": {},
   "outputs": [],
   "source": [
    "corpus = []\n",
    "with open('covid_phrase_text_v2.txt') as infile:\n",
    "    corpus = list(infile.readlines())"
   ]
  },
  {
   "cell_type": "code",
   "execution_count": 54,
   "id": "853f05a5",
   "metadata": {},
   "outputs": [],
   "source": [
    "entropy = calcRecEntropy(corpus)"
   ]
  },
  {
   "cell_type": "code",
   "execution_count": 36,
   "id": "3c5e32c6",
   "metadata": {},
   "outputs": [],
   "source": [
    "def getSentenceEmb(text, emb_w, entropy):\n",
    "    res = np.array([0.0] * 200)\n",
    "    for word in text:\n",
    "        if word not in entropy or word not in emb_w:\n",
    "            continue\n",
    "        res = np.add(res, np.array(entropy[word] * emb_w[word]))\n",
    "    return res"
   ]
  },
  {
   "cell_type": "code",
   "execution_count": 27,
   "id": "48a06dd5",
   "metadata": {},
   "outputs": [],
   "source": [
    "def cos_sim(a,b):\n",
    "    return dot(a, b)/(norm(a)*norm(b))\n",
    "def getGeoMean(sentenceEmb, topicEmbs):\n",
    "    n = max(1, len(topicEmbs))\n",
    "    temp = cos_sim(sentenceEmb, topicEmbs[0])\n",
    "    for x in topicEmbs[1:]:\n",
    "        temp *= cos_sim(sentenceEmb, x)\n",
    "    return np.power(temp, (1/n))"
   ]
  },
  {
   "cell_type": "code",
   "execution_count": 55,
   "id": "69950806",
   "metadata": {},
   "outputs": [],
   "source": [
    "def getRankings(query, corpus, emb_w, emb_t, entropy, filename):\n",
    "    res = []\n",
    "    qTopics = []\n",
    "    for x in query:\n",
    "        qTopics.append(emb_t[x])\n",
    "    for i, x in enumerate(corpus):\n",
    "        s = getSentenceEmb(x.split(' '), emb_w, entropy[i])\n",
    "        res.append((getGeoMean(s, qTopics), x))\n",
    "    print(res)\n",
    "    with open(filename, 'w') as outfile:\n",
    "        for x in res:\n",
    "            outfile.write(str(x[0]) + '\\t' + str(x[1]) + '\\n')"
   ]
  },
  {
   "cell_type": "markdown",
   "id": "89d8f603",
   "metadata": {},
   "source": [
    "# Load CatE Embeddings"
   ]
  },
  {
   "cell_type": "code",
   "execution_count": 17,
   "id": "0715d2d2",
   "metadata": {},
   "outputs": [],
   "source": [
    "folder = 'bioWordVec/'\n",
    "emb_age = readCateEmbeddings(folder + 'emb_study_w.txt')"
   ]
  },
  {
   "cell_type": "code",
   "execution_count": 18,
   "id": "1c234f38",
   "metadata": {},
   "outputs": [
    {
     "data": {
      "text/plain": [
       "dict_keys(['elderly', 'adult', 'infant', 'coronavirus', 'sars', 'mers', 'ebola', 'origin', 'evolution', 'symptom', 'examination'])"
      ]
     },
     "execution_count": 18,
     "metadata": {},
     "output_type": "execute_result"
    }
   ],
   "source": [
    "topicEmbeddings = {}\n",
    "topicEmbeddings.update(readCateEmbeddings(folder + 'emb_age_t.txt'))\n",
    "topicEmbeddings.update(readCateEmbeddings(folder + 'emb_virus_t.txt'))\n",
    "topicEmbeddings.update(readCateEmbeddings(folder + 'emb_study_t.txt'))\n",
    "topicEmbeddings.keys()"
   ]
  },
  {
   "cell_type": "code",
   "execution_count": 19,
   "id": "cdc20fa0",
   "metadata": {},
   "outputs": [],
   "source": [
    "corpus = []\n",
    "with open('covid_phrase_text_v2.txt', 'r') as infile:\n",
    "    corpus = [s.strip() for s in list(infile.readlines())]"
   ]
  },
  {
   "cell_type": "markdown",
   "id": "a10c2b6b",
   "metadata": {},
   "source": [
    "# Get Document Rankings"
   ]
  },
  {
   "cell_type": "code",
   "execution_count": null,
   "id": "29c5c23f",
   "metadata": {},
   "outputs": [],
   "source": [
    "qTest = [\"coronavirus\", \"symptom\", \"infant\"]\n",
    "getRankings(qTest, corpus, emb_age, topicEmbeddings, entropy, \"covid_symptom_infant.txt\")"
   ]
  },
  {
   "cell_type": "code",
   "execution_count": 57,
   "id": "76a8d6ec",
   "metadata": {},
   "outputs": [],
   "source": [
    "rankings = []\n",
    "with open('covid_symptom_infant.txt', 'r') as infile:\n",
    "    for line in infile.readlines():\n",
    "        score, text = line.split('\\t', 1)\n",
    "        rankings.append((float(score), text))"
   ]
  },
  {
   "cell_type": "code",
   "execution_count": 58,
   "id": "6cc170e0",
   "metadata": {},
   "outputs": [],
   "source": [
    "rankings = sorted(rankings, key=lambda x: x[0], reverse=True)"
   ]
  },
  {
   "cell_type": "code",
   "execution_count": 63,
   "id": "05a9265f",
   "metadata": {
    "scrolled": false
   },
   "outputs": [
    {
     "data": {
      "text/plain": [
       "(0.30425813117346817,\n",
       " 'virological and clinical characterizations of respiratory_infections in hospitalized_children background the purpose of this study was to determine the incidence and seasonal_distribution of viral etiological_agents and to compare their clinical_manifestations and disease severity , including single and co infections . methods multiplex_reverse_transcription_pcr was performed for the detection of viruses in nasopharyngeal aspirat . disease severity was grouped using a categorization index as very mild mild , and moderate severe . clinical and laboratory characteristics of hospitalized_children with viral respiratory_tract infection were analyzed . results viral pathogens were detected in 103 155 ( 66 . 5 ) of patients . in order of frequency , identified pathogens were respiratory_syncytial_virus ( 32 . 0 ) , adenovirus ( 26 . 2 ) , parainfluenza_viruses type 1 4 ( 19 . 4 ) , rhinovirus ( 18 . 4 ) , influenza a and b ( 12 . 6 ) , human metapneumovirus ( 12 . 6 ) , coronavirus ( 2 . 9 ) , and bocavirus ( 0 . 9 ) . coinfections were present in 21 samples . most of the children had very mild ( 38 . 8 ) and mild_disease ( 37 . 9 ) . severity of illness was not worse with coinfections . the most common discharge_diagnoses were \" urti \" with or without lrti asthma ( n 58 ) . most viruses exhibited_strong seasonal_patterns . leukocytosis ( 22 . 2 ) and neutrophilia ( 36 . 6 ) were most commonly detected in patients with adenovirus and rhinovirus ( p 0 . 05 ) . monocytosis was the most remarkable finding in the patients ( n 48 , 53 . 3 ) , especially in patients with adenovirus ( p 0 . 05 ) . conclusions rsv and rhv were associated with higher severity of illness in hospitalized_children . rsv found to account for half of lrti_hospitalizations . in adv and flua and b infections , fever lasted_longer than in other viruses . coinfections were detected in 21 of the patients . the presence of coinfections was not associated with increased disease severity . acute_respiratory_tract_infections ( rtis ) are the most commonly_encountered diseases for hospitalization , particularly in infants_and_young_children . these are the major causes of morbidity and mortality with a worldwide disease burden estimated at 112 900 000 and 3.5 million_deaths , respectively 1 . rtis are divided into two categories , as acute_lower_respiratory_tract_infections ( lrtis ) and upper respiratory_tract infections ( urtis ) according to localization of the infection . lrtis are more harmful than urtis . urtis refer to infections of the nasopharynx , larynx , tonsillae , sinuses , ears , including rhinosinusitis , tonsillitis , pharyngitis , laryngitis laryngotracheitis and otitis_media . lrti refers to infections of the trachea , bronchus , and alveolus , including tracheitis , bronchitis , bronchiolitis , and bronchopneumonia . the etiological_agents include many bacteria , viruses and fungi . however , viral agents have a greater role in causing rti as they are more commonly observed . in recent_years , many viruses causing rti have been discovered , including coronaviruses , human metapneumovirus and human bocavirus . detection of these viruses relies on the polymerase_chain_reaction ( pcr ) in virology laboratories . as the agents of rtis , viruses have constantly been shown to predominate this majority of the viral agents may be related to the increased use of the pcr in the detection of viruses . coinfections with more than one viral etiological_agent exist in 4 33 of children 2 , 3 . the clinical_severity of rtis which are caused by viruses are viewed differently among viral agents . coinfection may or may not be a risk_factor for disease severity 4 5 6 . evidence has also shown that severe viral infections in infancy_and_early_childhood are related to recurrent_wheezing and asthma in later life 7 . the purpose of current study was to determine the incidence and seasonal_patterns of viral etiological_agents and to compare their clinical_manifestations and disease severity , including single and coinfections . we have prepared a retrospective_cohort_study of rtis in children , requiring_hospitalization at a university hospital in istanbul , turkey . children hospitalized with upper and or lower respiratory_tract symptoms and or signs of rti between november 2010 and september 2011 , were eligible . the inclusion_criteria for this study were 1 ) children 9 years of age 2 ) hospitalization at the pediatric_ward of the yeditepe_university hospital , between november 1 , 2010 and september 30 , 2011 and 3 ) a diagnosis of acute_rti , including urti , acute_bronchitis , acute_bronchiolitis , and bronchopneumonia . the diagnosis for each patient was performed by the attending_physicians based on standard clinical_criteria . bronchiolitis was recognised in patients 24 months in whom lower respiratory_symptoms of wheezing , tachypnea and signs of respiratory_distress such as nasal flaring , intercostal subcostal retractions , and central_cyanosis were observed . the diagnosis of bronchopneumonia was established on clinical_findings which include fever , tachypnea and respiratory_distress where focal or diffuse crackles or decreased vesicular sounds and radiographic_findings such as infiltration and or atelectasia , and or air_bronchograms were present . the diagnosis of urti ( including laryngotracheitis ) was established on the basis of symptoms such as coryza , cough , earache , fever , sore_throat , headache , and stridor . symptoms used for disease severity assesment were fever ( tympanic_temperature of 38 . 0 c ) , dyspnea , tachypnea , tachycardia ( defined as heart_rate above the 97th percentile for that age ) , hypotension ( defined as blood_pressure below the 3rd percentile for age ) , hypoxemia ( defined as oxygen_saturation in room_air 94 ) , dehydration , and convulsion . disease severity was assessed by using a categorization index which was similar to categorization of disease ( viral rtis ) severity by bezerra et al . 8 , as follows baseline vital_signs including fever , oxygen_saturation , respiratory_rate , and pulse_rate were listed at the time of assessment in the pediatric_emergency_department and daily afterward following admission in all patients . patients with at least two symptoms and or signs of rti including fever , cough , nasal_congestion , rhinorrhea , nasal flaring , intercostal subcostal retractions , and central_cyanosis , received a posterior nasal swab for virus detection , generally within five days_of_symptom_onset . a sensitive multiplex_pcr panel was used to demonstrate 14 viral agents during acute_rtis in the present study . we assessed medical records of the patients for underlying_diseases , past_medical_history , outpatient respiratory visits during the month prior to hospitalization , respiratory_hospitalizations throughout the year prior to hospital admission , and recent respiratory_symptoms of patients and other family members . the discharge_diagnoses were divided into groups as \" primarily urti \" ( without lrti and or asthmatic attack ) and \" primarily lrti \" ( with or without urti and or asthmatic attack ) . nasopharyngeal_aspirate ( npa ) and pcr assays for respiratory_pathogens fourteen respiratory_viruses were included in the panel . multiplex_pcr was performed to demonstrate adenovirus ( adv ) , bocavirus ( bcv ) , human coronaviruses ( cov ) group 1 ( 229e and nl63 ) and group 2 ( oc43_and_hku1 ) , influenza viruses a b ( flua b ) , human metapneumovirus ( mpv ) , parainfluenzaviruses type 1 4 ( piv1 4 ) , respiratory_syncytial_virus ( rsv ) , rhinovirus ( rhv ) . we obtained a nasopharyngeal_aspirate ( npa ) sample using a sterile feeding_tube and injector . npa fluid samples were obtained more commonly by a nurse or sometimes a research assistant on all subjects within 48 hours of admission using a standardised protocol 8 . samples were frozen at 20 c and transported on ice to the department of clinical_microbiology and virology laboratory of our university for viral nucleic_acid amplification . bacterial blood cultures were obtained from 37 patients . three to five milliliters of serum was obtained from each subject for complete_blood_counts , c_reactive_protein ( crp ) and erytrocyte sedimentation rate ( esr ) analyses . crp was evaluated as normal ( 2 . 8 mg l ) , mildly_elevated ( 2 . 8 15 mg l ) , moderately_elevated ( 16 50 mg l ) and excessively elevated ( 50 mg l ) in 91 children . esr was evaluated in 60 children . cytopenia was determined with decreases in the three main cell groups which are leukocytes , platelets , and erythrocytes . decreases in leukocytes and leukocyte subgroups ( lymphocytes , granulocytes ) were also analyzed according to age 9 . the fisher_exact_test was used to examine the differences in pathogen prevalence between disease severity categories i and ii and or different symptoms signs by setting the level of significance at p 0 . 05 as significant . differences in seasonal_distribution , demographic and clinical_characteristics between viruses were examined using chi_square_test , setting the level of significance at p 0 . 05 as significant . statistical computations were done using spss 18 statistical_package ( spss inc . , chicago ) . for the purposes of analysis the following viral agents were grouped together adv , bcv , cov , flu a b , piv 1 4 , rsv , and rhv . one hundred three patients under nine years of age hospitalized at the pediatrics department were enrolled . there were 61 males and 42 females with a male_female_ratio of 1.4 to 1 . the characteristics of patients are shown in table 1 . the mean age of patients was 34 . 9 ( 1 106 ) months , where 89 . 4 of patients where 5 years of age . among the patients 18 . 4 were 12 months 32 were 13 24 months of age , 39 were 25 60 months , and 10 . 6 were 61 106 months ( table 1 ) . there were no statistically_significant differences among age_groups . among the patients , 42 had other significant comorbidities ( e . g . chronic_bronchitis , other chronic_diseases and prematurity ) . thirty four patients ( 33 ) were attending school and daycare_centers . viral respiratory_pathogens were detected in 103 155 ( 66 . 5 ) npas . the distribution of viral etiologic_agents according to age is shown in table 1 . the detected pathogens were rsv ( 32 ) , adv ( 26 . 2 ) , piv 1 4 ( 19 . 4 ) , rhv ( 18 . 4 ) , flu ( 12 . 6 ) , mpv ( 12 . 6 ) , cov ( 2 . 9 ) , and bcv ( 0 . 9 ) , respectively . rsv was identified more than any other virus ( 33 103 , p 0 . 01 ) . only three cov and one bcv infections were detected . adv was also detected frequently ( 26 . 2 of rtis ) . parainfluenza_viruses were detected in 19 . 4 of patients with piv3 manifesting the major part of piv ( 10 . 6 ) . influenza viruses were found in 12 . 6 of samples with flu a being the most common ( 8 . 7 ) . the most common pathogens in single infections ( n 82 79 . 6 total samples ) were rsv ( 28 ) and adv ( 24 . 4 ) with cov and bcv comprising a much smaller percentage ( 2 . 4 and 1 . 2 respectively ) ( table 2 ) . coinfection with two or more pathogens were present in 21 samples ( 20 . 6 ) . two pathogens were detected in 17 samples ( 16 . 5 ) , three pathogens in three samples ( 2 . 9 ) , and four pathogens were found in one sample ( a two year old boy with rsv , mpv , piv2 , and flu a , who was hospitalized for urti ) . the most common pathogens in coinfected samples were rsv ( 47 . 6 ) , rhv ( 47 . 6 ) , piv ( 38 ) , adv ( 33 . 3 ) , mpv ( 28 . 6 ) , flu a b ( 23 . 8 ) , and cov ( 4 . 7 ) where the most frequently detected coinfections were rsv piv ( 28 . 3 of coinfections ) and rhv adv ( 19 ) ( table 2 ) . patients positive for bcv and cov were significantly_older ( mean 60 and 65 months , respectively ) than other hospitalized_patients ( mean 33 . 7 months ) . patients positive for rhv and rsv were significantly_younger ( mean 26 and 26 . 5 months , respectively ) than other hospitalized_patients ( mean 42 . 6 months ) ( p 0 . 05 ) although patients with mpv and piv had similar mean age ( 30 . 6 and 32 . 6 months , respectively ) ( table 1 ) . patients were classified under the three major clinical_presentation groups ( urti only , urti lrti , and lrti only ) . bronchopneumonia and urti comprised the majority of discharge_diagnoses . overall , 58 had symptoms of urti ( 56 . 3 ) and 62 had symptoms of lrti ( 60 . 2 ) , and 17 of these had symptoms of urti_and_lrti ( 16 . 5 ) . the discharge_diagnoses of patients were divided as \" urti only \" ( 39 . 8 ) , urti lrti ( 16 . 5 ) , and \" lrti only \" ( 43 . 7 ) . among lrti and urti lrti patients , the discharge_diagnoses were bronchiolitis ( 15 . 5 ) , bronchopneumonia ( 36 ) and asthmatic attack ( 8 . 7 ) . three of the children were hospitalized in the intensive_care_unit and one intubated . the distribution of discharge_diagnoses are shown in table 3 . some viruses were more commonly identified with symptoms of urti or lrti ( table 3 ) . especially adv_infection was more commonly associated with urti than lrti ( urti 81 . 5 , lrti 8 . 5 ) ( 53 . 6 of cases of urti vs . 8 of cases of lrti p 0 . 000 ) and rsv was more largely associated with lrti ( 81 . 8 ) than urti ( 18 . 2 ) ( 43 . 5 of lrtis vs . 14 . 6 of urtis p 0 . 000 ) . the number of patients in whom coinfection was found , was not different statistically in two major clinical_manifestation groups ( 26 . 8 of urtis 16 . 1 of lrtis ) . patients infected with rsv , mpv , and piv1 4 were commonly_diagnosed as lrti ( p 0 . 05 ) , however , a higher percentage of adv positive patients were diagnosed as urti ( p 0 . 000 ) in comparison to other viruses . symptoms of hospitalized_children were fever ( 50 . 5 ) , dyspnea ( 26 . 2 ) , tachypnea ( 24 . 2 ) , dehydration ( 12 . 6 ) , hypoxia ( 4 . 8 ) , hypotension ( 2 . 9 ) , and convulsion ( 3 . 8 ) . clinical_characteristics associated with viral pathogens are shown in table 5 which displays clinical_characteristics of single viral infections . fever was observed in 50 . 5 of the patients with rtis , and its duration was between 72 150 hours . this symptom was observed in 92 . 6 with adv . moreover , patients with single adv infections were more likely to have fever than viral rtis without adv ( p 0 . 000 ) . adv and influenza a b had the longest mean duration of fever in rti cases , 111 . 1 hours and 150 hours , respectively . the mean duration of fever in single viral infections was prolonged in patients with adv ( 5 . 1 days ) . the rate of dyspnea in rtis with single rsv_infections was 92 . 6 ( 43 . 5 of dyspneic patients ) . dyspnea was more likely to be detected with single rsv_infections ( 43 . 5 of dyspneic patients ) . the seasonal_distribution of viruses is displayed in figure 1 . most viruses exhibited_strong seasonal_patterns . some viruses were most frequently detected in the cold and rainy_season . the clear seasonal_patterns of influenza a b and cov ( winter_spring ) , rsv ( fall_winter spring ) and mpv ( spring ) somewhat overlapped in terms of incidence . influenza a was identified during january through may with a peak occurrence in april . influenza b was observed in january_march may . bcv and some cases of adv were determined in the warm months . piv and rhv did not have a clear seasonal_pattern . rhv was detected throughout the study months , although its percentage rose in the spring ( march and april ) , and decreased between december march . different pivs ( piv1 4 ) were identified in different months during the year the study was conducted . piv1 was identified in march and june , piv2 in february and may , piv4 in june and august , while piv3 predominated during march , and continued through may with a peak in december . cov and bcv were detected in low percentages during the study_period . white_blood_cell counts were available for 90 ( 87 . 4 ) of the patients . leukocytosis was detected in 20 ( 22 . 2 ) patients . especially adv ( n 10 ) and rhv ( n 6 ) were the gold_standard for diagnosing respiratory_viruses is a viral culture of nasopharyngeal_samples and or throat samples . however , the process may require 3 7 days , which is a long duration for diagnosis . although viral culture is the \" golden_standard \" of diagnosing virus infection , it limits the sensitivity of the diagnosis , as conventional viral culture has a low_sensitivity in comparison to rt_pcr . nucleic_acid pcr types of laboratory tests with short durations ( of less than 24 hours ) have become available and with high sensitivity . this study clearly demonstrates the clinical_manifestations , clinical severities and seasonal_patterns of respiratory viral agents of urti_and_lrti in turkish children . furthermore , it provides new information on the epidemiology of viral agents in children by assessing the significance of rsv , mpv , rhv , adv , and the newly_identified viruses ( piv4 , cov , bcv ) . viruses were detected in 66 . 5 of the hospitalized_patients . this detection_rate was similar to those found in other studies of hospitalized_patients ( 35 90 ) 3 , 10 11 12 . coinfections were common , occurring in 20 . 4 of rtis , with some pathogens , such as rhv and mpv , being commonly identified as coinfections while others , such as adv and rsv were mostly detected as single infections . similar rates ( between 11 . 1 and 39 . 6 ) were found in other pcr based studies 10 , 11 , 13 , 14 . sensitive rt_pcr assays make it possible to identify a large spectrum of viral agents , but an identified virus may be concerned with persistence of a virus after a recently afflicted rti . rhv and bcv may persist in the upper airways for a long duration . up to two months of persistence has been shown in nasopharynx 14 15 16 17 . adv shedding with the faeces may persist for a long time after an acute_infection 18 however , extended shedding of adv in the nasopharynx was not documented . for this reason , this persistence also may not occur in the nasopharynx . however , identification of two or more viruses in a patient may be due to prolonged_viral_shedding or asymptomatic persistence of viruses and further work would be needed to clarify this situation . identification of the viral genome quantitively may be helpful in explaining coinfections . evidence pertaining to the severity of coinfections compared to single viral infections is conflicting . in our study , coinfections were not more severe than single infections . the presence of coinfections was not associated with extended duration of fever . the severity of coinfection may depend on the viruses involved . in contrast with some previous_studies 4 , 19 , 20 , coinfections were not more severe than single infections in this study . other studies conducted do support this finding 5 , 6 . this may have resulted due to smaller numbers of patients in the moderate and severe categories . very few studies have included the full spectrum of disease severity from mild to life threatening severity . in this study , over 75 of the patients had a mild or moderate disease . most viruses were detected in all disease severity groups . however , patients with rsv and rhv had moderate and severe_disease symptoms more frequently and patients with adv , cov and bcv were did not . these viruses were not the cause of moderate and severe_symptoms in our patients . rsv , rhv and mpv were also more likely to be detected in patients with bronchiolitis and bronchopneumonia , confirming and highlighting the importance of these pathogens . our study has estimated the incidence of respiratory_viruses among the hospitalized_children with the diagnosis of rti that may be considered as viral etiology . it has also demonstrated the importance of rsv and adv among lrtis and urtis , respectively . rsv was the most significant viral agent associated with pediatric_hospitalizations for lrti ( 32 ) , especially in patients under two years of age , similar to findings in other studies ( 12 60 ) 6 , 12 , 17 . it was detected in a larger proportion ( 35 . 5 ) of hospitalized young ( 24 months ) patients . rsv was identified in 43 . 5 of patients with pneumonia . rsv is the second virus that results in a longer_hospitalization duration ( 96 hours 37 . 1 ) in young_children ( 24 months ) compared to other viruses . it was especially evident in young_children that , rsv was the most frequently detected virus in this group . similar to other studies , rsv was associated with higher severity of diseases . fever ( 36 . 3 ) , dyspnea ( 36 . 3 ) and tachypnea ( 30 . 3 ) were the most commonly_encountered symptoms in hospitalized_children with rsv . it was detected during november through july with peaks in december and may . in 47 . 6 of coinfected_patients , rsv was identified together rhv , adv , piv , flua b and mpv . piv is the second most common virus in our study that associated with lrti hospitalization ( 21 of lrti ) . it was detected in a larger proportion of hospitalized_patients with rti ( 19 . 4 ) than in other similar lrti studies ( range 0 . 4 9 ) 6 , 17 , 20 . this finding was consistent with 1990 2004 united_states national respiratory and enteric_virus surveillance system data showing pivs second only to rsv detected in patients 5 years of age with rtis 21 . singleton et al . detected piv as a cause of lrti in hospitalized_children with respiratory_diseases ( 18 ) 12 . in our study , piv3 caused a greater percentage ( 55 ) of piv_infections . piv was detected in a smaller percentage ( 16 . 1 ) of hospitalized young_children ( 24 months ) compared to rhv and rsv . severity of infection in hospitalized_children with piv was mild and moderate in general compared to other viruses . mean duration of fever is 111 . 6 hours in hospitalized_children with piv this is relatively longer compared to other viruses except for influenza ( 150 hours ) . piv is the third virus that results in a long hospitalization_duration ( 96 hours 20 ) after rsv and rhv . piv1 4 were identified across all the studied months with peak the rate during early and late_spring and early_summer . piv1 4 was detected with other viruses in 38 of the coinfected_patients , especially with rsv . rhv was the second most common agent identified in hospitalized_children in our study . rhv is one of the increasingly identified viral agents with the use of pcr 22 , 23 . it is the most common cause of urti ( especially common_cold ) in both adults and children . rhv may also be associated with lrti 24 , and was detected in 14 24 of hospitalized_children with lrti 25 , 26 . rhv may now be considered a major cause of lrtis in infants 27 and of asthma triggering in children 28 , 29 and adults 30 . the role of rhv in asthma exacerbations was documented by johnston et al . it accounted for 65 of virus induced asthmatic attacks 28 . studies in recent_years 14 , 31 have shown higher rates of viruses in children hospitalized for asthmatic attacks however , studies in the later years 32 have shown lower rates ( 19 to 42 ) compared to recent_studies . the more extensive use of pcr for virus identification in recent_years may be responsible for the higher rates in recent_studies . rhv has been identified as the single virus in some lrtis 19 , 30 , however , in this study more than half ( 52 . 6 ) of the patients with rhv was identified in coinfections . this was not correlated with other studies . hospitalized_children with rhv were usually encountered during summer_months 19 , 30 . the seasonal_pattern of rhv in this study correlates with these studies rhv was mostly encountered in spring and summer with a peak incidence occurring in march and april . the disease severity of patients with rhv was relatively higher compared to other viruses . patients with rhv were 29 . 2 with moderate to severe_symptoms . in children with rhv , tachypnea ( 42 . 1 ) , dyspnea ( 36 . 8 ) , fever ( 36 . 8 ) , and dehydration ( 21 ) were encountered at levels of severity similar to those observed in children with rsv . rhv causes the second longest hospitalization_duration ( 96 hours 25 . 7 ) , which is especially evident in young_children ( 24 months 35 ) . rhv was identified with adv , rsv , piv , mpv and cov in 47 . 6 of coinfected_patients . mpv is one of the causes of upper and lower rtis , which is a well recognized viral agent of pneumonia in preschool and older_children , but not a frequently identified agent in children younger than the former two groups 3 , 33 . in contrast to some studies , mpv was mostly detected in young ( 24 months ) hospitalized_children in our study . mpv was detected in a higher percentage ( 12 . 4 ) of hospitalized_children than in other studies ( 3 5 ) 6 , 17 except for one study in alaska ( 15 ) 12 . mpv infection was associated with urti and especially lrti ( 77 ) in hospitalized_children . in contrast to singleton et al . 12 , mpv infection was associated with mild severity of disease in our study , but patients , especially young_children , have a relatively long hospitalization time ( 96 hours 25 ) , compared to children with other viruses except rsv and rhv . mpv was identified during spring and summer with a peak in may . mpv was detected with other viruses in 28 . 6 of coinfected_patients , especially with flua b , rsv and rhv . flua b was detected in a relatively small percentage ( 12 . 6 ) during winter and spring in our study . however , this percentage was higher than the ones reported in other studies ( 0 . 8 8 ) 6 , 12 , 17 , 20 . flua b was identified during january through may with a peak in april . seasonal_patterns of flua b , cov , rsv and mpv overlapped . patients with flua b were older than patients who were diagnosed with bronchiolitis caused by other viruses . flua b infection was associated with lrti ( 53 . 8 ) and moderate disease severity in patients . fever ( 53 . 8 ) and dyspnea ( 30 . 8 ) were the most commonly_encountered symptoms in hospitalized_children with flua b . mean duration of fever for this virus is longer than other viruses ( 150 hours ) in hospitalized_children with flua b . in patients with h1n1 influenza a , fever was reporded in 94 . 6 of patients with a mean level of 38 . 6 c 34 . the mean duration of fever was 4.8 days in these patients , which was similar to that of our patients ( 4 . 63 days ) . fever ( 100 ) and other symptoms and signs , reported by han erli et al . 35 among hospitalized_children in istanbul included cough ( 82 ) , dyspnea ( 32 ) , vomiting ( 27 ) , myalgia ( 19 ) , headache ( 18 ) , rhinorhea ( 15 ) , diarrhea ( 13 ) , and sore_throat ( 8 ) . the clinical characterization of adv_infection is designated by high grade ( 39 c ) and prolonged ( up to 120 hours ) fever 36 . bezerra et al . reported that , adv was the second most common virus associated with rti hospitalization 8 . similar to other studies , adv was also commonly identified but not associated with severe_illness 8 . hospitalized_patients with adv have symptoms of urti ( 81 . 5 ) and lrti ( 18 . 5 ) . fever ( 92 . 6 ) was the most commonly_encountered symptom in hospitalized_children with adv . the duration of fever in this infection was more prolonged ( up to 120 hours ) in our patients , compared to other viruses this finding was similar to other studies 36 . dehydration ( 11 . 1 ) , febrile convulsion ( 7 . 4 ) and tachypnea ( 3 . 7 ) were encountered rarely in these patients . chen et al . reported that , fever was recorded for 98 . 7 of patients with adv , and the mean level of fever was 39 . 2 c 37 . while the mean duration of fever was 4.8 days in their patients , our patients experienced a similar duration ( 4 . 63 days ) . other symptoms and signs include cough ( 77 . 6 ) , rales ( 23 . 3 ) , diarrhea ( 25 . 2 ) , vomiting ( 21 . 8 ) , abdominal_pain ( 18 . 9 ) , conjunctivitis ( 13 . 6 ) , rashes ( 7 . 9 ) , and febrile seizure ( 3 . 1 ) as reported by chen et al . 37 . the peak incidence of adv occurred among children 2 5 years of age in our study , while chen reported the peak to occur between 4 and 8 years of age in taiwan 37 . similar to our study , other studies reported that most adv infections occurred among children under 5 years of age 36 , 38 . children hospitalized with adv were less likely to have lrti , and were older than patients with other viruses . the mortality_rates were reported in patients with adv in korean ( 19 ) 38 and argentinean ( 28 . 6 ) 39 children . there was no mortality in patients with adv , similar to the chen report 38 . our patients with adv mostly had urti , such as tonsillitis and pharyngitis ( 81 . 5 ) , with a few patients with lrti ( 18 . 5 ) . in a national_report prepared for 2006 2007 , adv was detected in 5 . 6 of children hospitalized with acute lrti , but , clinical_characteristics were not investigated 10 . similar to the rate reported in this study viruses were detected in lrti , but not urti . adv was shown in lrti in our study group in 4 . 8 of patients . furthermore , adv was identified during february through july with peaks in april and june . adv was detected with other viruses in 33 of coinfected_patients , especially with rhv . viral infections are known to cause hematologic complications particularly cytopenies . leukocytosis may also occur in viral infections , as well as bacterial infections . lymphopenia was the most common form of cytopenia that was seen in viral infections , particularly with flua b 40 , 41 . lymphopenia was the most notable finding in our cases with flua b in children two years or older . the main hematologic manifestation of influenza is lymphopenia with decreased lymphocyte neutrophil ratio . leukocytosis and neutrophilia were detected in the patients with adv and rhv . monocytosis was the most significant finding in the patients with adv . there was not any negative effect on the hematologic conditions of coinfections .\\n')"
      ]
     },
     "execution_count": 63,
     "metadata": {},
     "output_type": "execute_result"
    }
   ],
   "source": [
    "rankings[0:1000][0]"
   ]
  },
  {
   "cell_type": "code",
   "execution_count": null,
   "id": "26b9301e",
   "metadata": {},
   "outputs": [],
   "source": []
  },
  {
   "cell_type": "code",
   "execution_count": 86,
   "id": "4d0ef69c",
   "metadata": {},
   "outputs": [],
   "source": [
    "qTopics = []\n",
    "for x in qTest:\n",
    "    qTopics.append(topicEmbeddings[x])"
   ]
  },
  {
   "cell_type": "code",
   "execution_count": 87,
   "id": "f88cbef0",
   "metadata": {},
   "outputs": [],
   "source": [
    "text = [\"children hospitalized with upper and or lower respiratory_tract symptoms and or signs of rti\"]\n",
    "res = []\n",
    "for i, x in enumerate(corpus):\n",
    "    res.append((getAttentionWeights(text[0].split(' '), emb_age, qTopics), x))"
   ]
  },
  {
   "cell_type": "code",
   "execution_count": 66,
   "id": "eebf258c",
   "metadata": {},
   "outputs": [],
   "source": [
    "def getAttentionWeights(text, emb_w, topicEmbs):\n",
    "    res = []\n",
    "    for x in topicEmbs:\n",
    "        temp = []\n",
    "        for word in text:\n",
    "            if word not in emb_w:\n",
    "                continue\n",
    "            temp.append(cos_sim(emb_w[word], x))\n",
    "        res.append(temp)\n",
    "    return res"
   ]
  },
  {
   "cell_type": "code",
   "execution_count": 88,
   "id": "7d5362e1",
   "metadata": {},
   "outputs": [
    {
     "data": {
      "image/png": "[encoded data removed]",
      "text/plain": [
       "<Figure size 1224x72 with 2 Axes>"
      ]
     },
     "metadata": {
      "needs_background": "light"
     },
     "output_type": "display_data"
    }
   ],
   "source": [
    "fig, ax = plt.subplots(figsize=(17, 1))\n",
    "ax = sns.heatmap([res[0][0][0]], cmap=\"BuPu\", annot = [text[0].split(' ')], fmt = '', linewidth=0.5)\n",
    "ax.set(xlabel=None)\n",
    "ax.set(xticklabels=[])\n",
    "ax.set(ylabel=None)\n",
    "ax.set(title='Attention Weight Visualization (COVID)')\n",
    "ax.set(yticklabels=[])\n",
    "ax.tick_params(bottom=False) \n",
    "ax.tick_params(left=False) \n",
    "plt.tight_layout()\n",
    "plt.show()"
   ]
  },
  {
   "cell_type": "code",
   "execution_count": 89,
   "id": "d46cd3a3",
   "metadata": {},
   "outputs": [
    {
     "data": {
      "image/png": "[encoded data removed]",
      "text/plain": [
       "<Figure size 1224x72 with 2 Axes>"
      ]
     },
     "metadata": {
      "needs_background": "light"
     },
     "output_type": "display_data"
    }
   ],
   "source": [
    "fig, ax = plt.subplots(figsize=(17, 1))\n",
    "ax = sns.heatmap([res[0][0][1]], cmap=\"BuPu\", annot = [text[0].split(' ')], fmt = '', linewidth=0.5)\n",
    "ax.set(xlabel=None)\n",
    "ax.set(xticklabels=[])\n",
    "ax.set(ylabel=None)\n",
    "ax.set(yticklabels=[])\n",
    "ax.set(title='Attention Weight Visualization (Symptom)')\n",
    "ax.tick_params(bottom=False) \n",
    "ax.tick_params(left=False) \n",
    "plt.tight_layout()\n",
    "plt.show()"
   ]
  },
  {
   "cell_type": "code",
   "execution_count": 90,
   "id": "a78547a2",
   "metadata": {},
   "outputs": [
    {
     "data": {
      "image/png": "[encoded data removed]",
      "text/plain": [
       "<Figure size 1224x72 with 2 Axes>"
      ]
     },
     "metadata": {
      "needs_background": "light"
     },
     "output_type": "display_data"
    }
   ],
   "source": [
    "fig, ax = plt.subplots(figsize=(17, 1))\n",
    "ax = sns.heatmap([res[0][0][2]], cmap=\"BuPu\", annot = [text[0].split(' ')], fmt = '', linewidth=0.5)\n",
    "ax.set(xlabel=None)\n",
    "ax.set(xticklabels=[])\n",
    "ax.set(ylabel=None)\n",
    "ax.set(yticklabels=[])\n",
    "ax.set(title='Attention Weight Visualization (Infant)')\n",
    "ax.tick_params(bottom=False) \n",
    "ax.tick_params(left=False) \n",
    "plt.tight_layout()\n",
    "plt.show()"
   ]
  }
 ],
 "metadata": {
  "kernelspec": {
   "display_name": "myEnv",
   "language": "python",
   "name": "myenv"
  },
  "language_info": {
   "codemirror_mode": {
    "name": "ipython",
    "version": 3
   },
   "file_extension": ".py",
   "mimetype": "text/x-python",
   "name": "python",
   "nbconvert_exporter": "python",
   "pygments_lexer": "ipython3",
   "version": "3.9.7"
  }
 },
 "nbformat": 4,
 "nbformat_minor": 5
}
