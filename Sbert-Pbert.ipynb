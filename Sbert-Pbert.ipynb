{
 "cells": [
  {
   "cell_type": "markdown",
   "metadata": {},
   "source": [
    "##### Sent BERT / ignore this, see next, phrase BERT"
   ]
  },
  {
   "cell_type": "code",
   "execution_count": null,
   "metadata": {},
   "outputs": [],
   "source": [
    "!pip install flair\n",
    "from scipy.spatial.distance import cosine\n",
    "from flair.data import Sentence\n",
    "from flair.embeddings import SentenceTransformerDocumentEmbeddings # \n",
    "import tqdm\n",
    "# init embedding\n",
    "embedding = SentenceTransformerDocumentEmbeddings('bert-base-nli-mean-tokens')"
   ]
  },
  {
   "cell_type": "code",
   "execution_count": 1,
   "metadata": {},
   "outputs": [],
   "source": [
    "##### load data\n",
    "with open('covid_phrase_text.txt') as f:\n",
    "    text = f.readlines()\n",
    "\n",
    "split_texts = []\n",
    "for doc in text:\n",
    "    split_text = doc.split(\".\")\n",
    "    split_texts.append(split_text)\n",
    "\n",
    "all_words = [\"COVID-19\", \"sars\", \"MERS\", \"Ebola\", \"origin\", \"evolution\", \"symptom\", \"examination\", \"infant\", \"adult\", \"elderly\"]\n"
   ]
  },
  {
   "cell_type": "code",
   "execution_count": null,
   "metadata": {},
   "outputs": [],
   "source": [
    "embedding = SentenceTransformerDocumentEmbeddings('bert-base-nli-mean-tokens')\n",
    "target_sent_embeddings, sentences = [], []\n",
    "\n",
    "for t in tqdm.tqdm(split_texts[:100]):\n",
    "    for sent in t:\n",
    "        if sent != '':\n",
    "            sentence = Sentence(sent)\n",
    "            embedding.embed(sentence)\n",
    "            sent_embedding = sentence.embedding\n",
    "            sentences.append(sent)\n",
    "            target_sent_embeddings.append(sent_embedding)"
   ]
  },
  {
   "cell_type": "code",
   "execution_count": null,
   "metadata": {},
   "outputs": [],
   "source": [
    "for i in range(len(target_sent_embeddings)):\n",
    "    for target_word in all_words:\n",
    "        result = 1 - cosine(target_sent_embeddings[i], target_word)\n",
    "        if result > 0.6:\n",
    "            print(sentences[i]) # print sentence which has close similarity to phrase in all_words"
   ]
  },
  {
   "cell_type": "markdown",
   "metadata": {},
   "source": [
    "##### phrase BERT"
   ]
  },
  {
   "cell_type": "code",
   "execution_count": null,
   "metadata": {},
   "outputs": [],
   "source": [
    "import torch \n",
    "from torch import nn\n",
    "cos_sim = nn.CosineSimilarity(dim=0)\n",
    "import numpy as np\n",
    "\n",
    "!pip install -U sentence-transformers\n",
    "model = SentenceTransformer('whaleloops/phrase-bert')\n",
    "from sentence_transformers import SentenceTransformer\n",
    "from nltk.tokenize import word_tokenize"
   ]
  },
  {
   "cell_type": "code",
   "execution_count": null,
   "metadata": {},
   "outputs": [],
   "source": [
    "with open('covid_phrase_text.txt') as f:\n",
    "    text = f.readlines()\n",
    "\n",
    "split_texts = []\n",
    "for doc in text:\n",
    "    split_text = doc.split(\".\")\n",
    "    split_texts.append(split_text)"
   ]
  },
  {
   "cell_type": "code",
   "execution_count": null,
   "metadata": {},
   "outputs": [],
   "source": [
    "target_phrase = ['symptom']\n",
    "target_phrase_encode = model.encode(target_phrase)\n",
    "# print(target_phrase_encode)"
   ]
  },
  {
   "cell_type": "code",
   "execution_count": null,
   "metadata": {},
   "outputs": [],
   "source": [
    "# embedding = SentenceTransformerDocumentEmbeddings('bert-base-nli-mean-tokens')\n",
    "item_phrase_encodes, words = [], []\n",
    "\n",
    "for t in tqdm.tqdm(split_texts[:1]):\n",
    "    for sent in t:\n",
    "        if sent != '':\n",
    "            sentlist = word_tokenize(sent)\n",
    "            for item in sentlist:\n",
    "                item_phrase_encode = model.encode(item)\n",
    "                cos = nn.CosineSimilarity(dim=1, eps=1e-6)\n",
    "                sim = cos(torch.tensor(item_phrase_encode), torch.tensor(target_phrase_encode))[0]\n",
    "                print(item, sim)\n",
    "                # words.append(item)\n",
    "                # item_phrase_encodes.append(item_phrase_encode)"
   ]
  }
 ],
 "metadata": {
  "kernelspec": {
   "display_name": "Python 3.9.5 64-bit",
   "language": "python",
   "name": "python3"
  },
  "language_info": {
   "codemirror_mode": {
    "name": "ipython",
    "version": 3
   },
   "file_extension": ".py",
   "mimetype": "text/x-python",
   "name": "python",
   "nbconvert_exporter": "python",
   "pygments_lexer": "ipython3",
   "version": "3.9.5"
  },
  "orig_nbformat": 4,
  "vscode": {
   "interpreter": {
    "hash": "aee8b7b246df8f9039afb4144a1f6fd8d2ca17a180786b69acc140d282b71a49"
   }
  }
 },
 "nbformat": 4,
 "nbformat_minor": 2
}
